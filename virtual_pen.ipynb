{
 "cells": [
  {
   "cell_type": "code",
   "execution_count": 5,
   "metadata": {},
   "outputs": [],
   "source": [
    "#programming_fever\n",
    "import cv2\n",
    "import numpy as np\n",
    "import time\n",
    "load_from_disk = True\n",
    "if load_from_disk:\n",
    "    hsv_value = np.load('hsv_value.npy')\n",
    "cap = cv2.VideoCapture(0)\n",
    "cap.set(3,1280)\n",
    "cap.set(4,720)\n",
    "kernel = np.ones((5,5),np.uint8)\n",
    "canvas = None\n",
    "x1,y1=0,0\n",
    "noiseth = 800\n",
    "while(1):\n",
    "    _, frame = cap.read()\n",
    "    frame = cv2.flip( frame, 1 )\n",
    "    if canvas is None:\n",
    "        canvas = np.zeros_like(frame)\n",
    "    hsv = cv2.cvtColor(frame, cv2.COLOR_BGR2HSV)\n",
    "    if load_from_disk:\n",
    "        lower_range = hsv_value[0]\n",
    "        upper_range = hsv_value[1]\n",
    "    else:           \n",
    "        lower_range  = np.array([134, 20, 204])\n",
    "        upper_range = np.array([179, 255, 255])\n",
    "    mask = cv2.inRange(hsv, lower_range, upper_range)\n",
    "    mask = cv2.erode(mask,kernel,iterations = 1)\n",
    "    mask = cv2.dilate(mask,kernel,iterations = 2)\n",
    "    contours, hierarchy = cv2.findContours(mask, cv2.RETR_EXTERNAL, cv2.CHAIN_APPROX_SIMPLE)\n",
    "    if contours and cv2.contourArea(max(contours,key = cv2.contourArea)) > noiseth:\n",
    "        c = max(contours, key = cv2.contourArea)    \n",
    "        x2,y2,w,h = cv2.boundingRect(c)\n",
    "        if x1 == 0 and y1 == 0:\n",
    "            x1,y1= x2,y2     \n",
    "        else:\n",
    "            canvas = cv2.line(canvas, (x1,y1),(x2,y2), [255,0,0], 4)\n",
    "        x1,y1= x2,y2\n",
    "    else:\n",
    "        x1,y1 =0,0\n",
    "    frame = cv2.add(frame,canvas)\n",
    "    stacked = np.hstack((canvas,frame))\n",
    "    cv2.imshow('VIRTUAL PEN',cv2.resize(stacked,None,fx=0.6,fy=0.6))\n",
    "\n",
    "    k = cv2.waitKey(1) & 0xFF\n",
    "    if k == 27:\n",
    "        break\n",
    "    if k == ord('c'):\n",
    "        canvas = None\n",
    "\n",
    "cv2.destroyAllWindows()\n",
    "cap.release()"
   ]
  },
  {
   "cell_type": "code",
   "execution_count": null,
   "metadata": {},
   "outputs": [],
   "source": []
  },
  {
   "cell_type": "code",
   "execution_count": null,
   "metadata": {},
   "outputs": [],
   "source": []
  },
  {
   "cell_type": "code",
   "execution_count": null,
   "metadata": {},
   "outputs": [],
   "source": []
  }
 ],
 "metadata": {
  "kernelspec": {
   "display_name": "Python 3.7.6 64-bit ('base': conda)",
   "language": "python",
   "name": "python37664bitbasecondafcfade751ef44a82bb55a30c909c3823"
  },
  "language_info": {
   "codemirror_mode": {
    "name": "ipython",
    "version": 3
   },
   "file_extension": ".py",
   "mimetype": "text/x-python",
   "name": "python",
   "nbconvert_exporter": "python",
   "pygments_lexer": "ipython3",
   "version": "3.7.6"
  }
 },
 "nbformat": 4,
 "nbformat_minor": 4
}
